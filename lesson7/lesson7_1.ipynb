{
 "cells": [
  {
   "cell_type": "markdown",
   "id": "dc0d1874",
   "metadata": {},
   "source": [
    "### 這是python基礎課程\n",
    "- python基本資料型別"
   ]
  },
  {
   "cell_type": "code",
   "execution_count": null,
   "id": "1a990fae",
   "metadata": {},
   "outputs": [
    {
     "name": "stdout",
     "output_type": "stream",
     "text": [
      "Hello! Python!\n",
      "以下是python的基本資料類型(int, float, str, bool)\n"
     ]
    },
    {
     "data": {
      "text/plain": [
       "False"
      ]
     },
     "execution_count": 3,
     "metadata": {},
     "output_type": "execute_result"
    }
   ],
   "source": [
    "print(\"Hello! Python!\")\n",
    "print(\"以下是python的基本資料類型(int, float, str, bool)\")\n",
    "15 #整數,(int)\n",
    "15.0 #浮點數,(float)\n",
    "\"15.0\" #字串,(str)\n",
    "'15.0' #字串,(str)\n",
    "True #布林值,(bool)\n",
    "False #布林值,(bool)"
   ]
  },
  {
   "cell_type": "code",
   "execution_count": 10,
   "id": "467156ba",
   "metadata": {},
   "outputs": [
    {
     "name": "stdout",
     "output_type": "stream",
     "text": [
      "SELECT \"stationCode\",\"stationName\", \"stationAddrTw\" \n",
      "FROM \"台鐵車站資訊\" \n",
      "WHERE \"stationAddrTw\" LIKE '%基隆市%';\n"
     ]
    }
   ],
   "source": [
    "print(\"SELECT \\\"stationCode\\\",\\\"stationName\\\", \\\"stationAddrTw\\\" \\nFROM \\\"台鐵車站資訊\\\" \\nWHERE \\\"stationAddrTw\\\" LIKE '%基隆市%';\")"
   ]
  },
  {
   "cell_type": "code",
   "execution_count": 11,
   "id": "983b04c0",
   "metadata": {},
   "outputs": [
    {
     "data": {
      "text/plain": [
       "'單行字串'"
      ]
     },
     "execution_count": 11,
     "metadata": {},
     "output_type": "execute_result"
    }
   ],
   "source": [
    "\"單行字串\"\n",
    "'單行字串'"
   ]
  },
  {
   "cell_type": "code",
   "execution_count": 12,
   "id": "f723d519",
   "metadata": {},
   "outputs": [
    {
     "data": {
      "text/plain": [
       "'\\nSELECT \"stationCode\",\"stationName\", \"stationAddrTw\"\\nFROM \"台鐵車站資訊\"\\nWHERE \"stationAddrTw\" LIKE \\'%基隆市%\\';\\n'"
      ]
     },
     "execution_count": 12,
     "metadata": {},
     "output_type": "execute_result"
    }
   ],
   "source": [
    "#多行字串\n",
    "\"\"\"\n",
    "SELECT \"stationCode\",\"stationName\", \"stationAddrTw\"\n",
    "FROM \"台鐵車站資訊\"\n",
    "WHERE \"stationAddrTw\" LIKE '%基隆市%';\n",
    "\"\"\""
   ]
  },
  {
   "cell_type": "code",
   "execution_count": 13,
   "id": "74089ba2",
   "metadata": {},
   "outputs": [
    {
     "name": "stdout",
     "output_type": "stream",
     "text": [
      "SELECT \"stationCode\",\"stationName\", \"stationAddrTw\"\n",
      "FROM \"台鐵車站資訊\"\n",
      "WHERE \"stationAddrTw\" LIKE '%基隆市%';\n"
     ]
    }
   ],
   "source": [
    "#多行字串\n",
    "print(\"\"\"SELECT \"stationCode\",\"stationName\", \"stationAddrTw\"\n",
    "FROM \"台鐵車站資訊\"\n",
    "WHERE \"stationAddrTw\" LIKE '%基隆市%';\"\"\")"
   ]
  },
  {
   "cell_type": "code",
   "execution_count": 14,
   "id": "efe1ca2f",
   "metadata": {},
   "outputs": [
    {
     "name": "stdout",
     "output_type": "stream",
     "text": [
      "CREATE TABLE 台鐵車站資訊 (\n",
      "\t\"stationCode\" int4 NOT NULL,\n",
      "\t\"stationName\" varchar(50) NULL,\n",
      "\t\"name\" varchar(50) NULL,\n",
      "\t\"stationAddrTw\" varchar(50) NULL,\n",
      "\t\"stationTel\" varchar(50) NULL,\n",
      "\tgps varchar(50) NULL,\n",
      "\t\"haveBike\" varchar(50) NULL,\n",
      "\tCONSTRAINT 台鐵車站資訊_pkey PRIMARY KEY (\"stationCode\")\n",
      ");\n"
     ]
    }
   ],
   "source": [
    "print(\"\"\"CREATE TABLE 台鐵車站資訊 (\n",
    "\t\"stationCode\" int4 NOT NULL,\n",
    "\t\"stationName\" varchar(50) NULL,\n",
    "\t\"name\" varchar(50) NULL,\n",
    "\t\"stationAddrTw\" varchar(50) NULL,\n",
    "\t\"stationTel\" varchar(50) NULL,\n",
    "\tgps varchar(50) NULL,\n",
    "\t\"haveBike\" varchar(50) NULL,\n",
    "\tCONSTRAINT 台鐵車站資訊_pkey PRIMARY KEY (\"stationCode\")\n",
    ");\"\"\")"
   ]
  }
 ],
 "metadata": {
  "kernelspec": {
   "display_name": "pydev",
   "language": "python",
   "name": "python3"
  },
  "language_info": {
   "codemirror_mode": {
    "name": "ipython",
    "version": 3
   },
   "file_extension": ".py",
   "mimetype": "text/x-python",
   "name": "python",
   "nbconvert_exporter": "python",
   "pygments_lexer": "ipython3",
   "version": "3.10.18"
  }
 },
 "nbformat": 4,
 "nbformat_minor": 5
}
