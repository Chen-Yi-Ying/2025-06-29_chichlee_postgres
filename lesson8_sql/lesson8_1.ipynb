{
 "cells": [
  {
   "cell_type": "code",
   "execution_count": 2,
   "id": "ebbf1b37",
   "metadata": {},
   "outputs": [
    {
     "name": "stdout",
     "output_type": "stream",
     "text": [
      "SELECT \"stationCode\",name,\"stationAddrTw\",日期,進站人數,出站人數\n",
      "FROM \"台鐵車站資訊\" LEFT JOIN \"每日各站進出站人數\" ON \"stationCode\" = \"車站代碼\"\n",
      "WHERE \"stationAddrTw\" LIKE '%臺北市%';\n"
     ]
    }
   ],
   "source": [
    "sql = \"\"\"SELECT \"stationCode\",name,\"stationAddrTw\",日期,進站人數,出站人數\n",
    "FROM \"台鐵車站資訊\" LEFT JOIN \"每日各站進出站人數\" ON \"stationCode\" = \"車站代碼\"\n",
    "WHERE \"stationAddrTw\" LIKE '%臺北市%';\"\"\"\n",
    "\n",
    "print(sql)"
   ]
  },
  {
   "cell_type": "code",
   "execution_count": 3,
   "id": "e23637f0",
   "metadata": {},
   "outputs": [
    {
     "name": "stdout",
     "output_type": "stream",
     "text": [
      "<class 'int'>\n",
      "<class 'float'>\n",
      "<class 'str'>\n",
      "==========\n",
      "10\n",
      "15.0\n",
      "50\n"
     ]
    }
   ],
   "source": [
    "# 建立變數\n",
    "n = 5\n",
    "m = 10.0\n",
    "x = '5'\n",
    "print(type(n))\n",
    "print(type(m))\n",
    "print(type(x))\n",
    "\n",
    "print(\"==========\")\n",
    "\n",
    "n = 10\n",
    "m = 15.0\n",
    "x = '50'\n",
    "print(n)\n",
    "print(m)\n",
    "print(x)"
   ]
  },
  {
   "cell_type": "code",
   "execution_count": 4,
   "id": "3c3844bf",
   "metadata": {},
   "outputs": [
    {
     "data": {
      "text/plain": [
       "tuple"
      ]
     },
     "execution_count": 4,
     "metadata": {},
     "output_type": "execute_result"
    }
   ],
   "source": [
    "#建立tuple\n",
    "student1 = (87, 76, 65, 78, 92)\n",
    "student1\n",
    "type(student1)"
   ]
  },
  {
   "cell_type": "code",
   "execution_count": 13,
   "id": "ca4902dd",
   "metadata": {},
   "outputs": [
    {
     "name": "stdout",
     "output_type": "stream",
     "text": [
      "87\n",
      "76\n",
      "65\n",
      "78\n",
      "92\n"
     ]
    }
   ],
   "source": [
    "#建立list\n",
    "student2 = [87, 76, 65, 78, 92]\n",
    "student2\n",
    "type(student2)\n",
    "\n",
    "#使用subscript取出元素值\n",
    "print(student2[0])\n",
    "print(student2[1])\n",
    "print(student2[2])\n",
    "print(student2[3])\n",
    "print(student2[4])\n",
    "#student2[5] # 超出索引會出錯"
   ]
  },
  {
   "cell_type": "code",
   "execution_count": 14,
   "id": "b61b086c",
   "metadata": {},
   "outputs": [
    {
     "data": {
      "text/plain": [
       "87"
      ]
     },
     "execution_count": 14,
     "metadata": {},
     "output_type": "execute_result"
    }
   ],
   "source": [
    "#建立dict(dictionary)\n",
    "student3 = {'chinese':67,'english':75,'math':89,'history':87,'discovery':92} #mapping(映射資料)\n",
    "type(student3)\n",
    "#使用subscript取出值\n",
    "student3['math']\n",
    "student3['history']"
   ]
  },
  {
   "cell_type": "code",
   "execution_count": 15,
   "id": "1d8370a9",
   "metadata": {},
   "outputs": [
    {
     "data": {
      "text/plain": [
       "92"
      ]
     },
     "execution_count": 15,
     "metadata": {},
     "output_type": "execute_result"
    }
   ],
   "source": [
    "#tuple的拆解法\n",
    "m, n = 78, 92\n",
    "m\n",
    "n"
   ]
  }
 ],
 "metadata": {
  "kernelspec": {
   "display_name": "pydev",
   "language": "python",
   "name": "python3"
  },
  "language_info": {
   "codemirror_mode": {
    "name": "ipython",
    "version": 3
   },
   "file_extension": ".py",
   "mimetype": "text/x-python",
   "name": "python",
   "nbconvert_exporter": "python",
   "pygments_lexer": "ipython3",
   "version": "3.10.18"
  }
 },
 "nbformat": 4,
 "nbformat_minor": 5
}
